{
 "cells": [
  {
   "cell_type": "code",
   "execution_count": null,
   "id": "1e635102",
   "metadata": {},
   "outputs": [],
   "source": [
    "# importing required libraries\n",
    "import cv2\n",
    "import numpy as np\n",
    "\n",
    "# taking the input from webcam\n",
    "vid = cv2.VideoCapture(0)\n",
    "\n",
    "# running while loop just to make sure that\n",
    "# our program keep running until we stop it\n",
    "while True:\n",
    "\n",
    "\t# capturing the current frame\n",
    "\t_, frame = vid.read()\n",
    "\n",
    "\t# displaying the current frame\n",
    "\tcv2.imshow(\"frame\", frame)\n",
    "\n",
    "\t# setting values for base colors\n",
    "\tb = frame[:, :, :1]\n",
    "\tg = frame[:, :, 1:2]\n",
    "\tr = frame[:, :, 2:]\n",
    "\n",
    "\t# computing the mean\n",
    "\tb_mean = np.mean(b)\n",
    "\tg_mean = np.mean(g)\n",
    "\tr_mean = np.mean(r)\n",
    "\n",
    "\t# displaying the most prominent color\n",
    "\tif (b_mean > g_mean and b_mean > r_mean):\n",
    "\t\tprint(\"Blue\")\n",
    "\tif (g_mean > r_mean and g_mean > b_mean):\n",
    "\t\tprint(\"Green\")\n",
    "\telse:\n",
    "        print(\"Red\")\n",
    "        "
   ]
  },
  {
   "cell_type": "code",
   "execution_count": null,
   "id": "ce003101",
   "metadata": {},
   "outputs": [],
   "source": []
  }
 ],
 "metadata": {
  "kernelspec": {
   "display_name": "Python 3 (ipykernel)",
   "language": "python",
   "name": "python3"
  },
  "language_info": {
   "codemirror_mode": {
    "name": "ipython",
    "version": 3
   },
   "file_extension": ".py",
   "mimetype": "text/x-python",
   "name": "python",
   "nbconvert_exporter": "python",
   "pygments_lexer": "ipython3",
   "version": "3.9.12"
  }
 },
 "nbformat": 4,
 "nbformat_minor": 5
}
